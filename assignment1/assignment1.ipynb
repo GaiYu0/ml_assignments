{
 "cells": [
  {
   "cell_type": "code",
   "execution_count": 1,
   "metadata": {
    "collapsed": false
   },
   "outputs": [
    {
     "name": "stderr",
     "output_type": "stream",
     "text": [
      "/usr/local/lib/python3.4/dist-packages/matplotlib/backends/backend_gtk3agg.py:18: UserWarning: The Gtk3Agg backend is known to not work on Python 3.x with pycairo. Try installing cairocffi.\n",
      "  \"The Gtk3Agg backend is known to not work on Python 3.x with pycairo. \"\n"
     ]
    }
   ],
   "source": [
    "import pickle\n",
    "import matplotlib.pylab as pl\n",
    "%matplotlib inline\n",
    "import numpy as np\n",
    "import time\n",
    "from utility import *"
   ]
  },
  {
   "cell_type": "markdown",
   "metadata": {},
   "source": [
    "### Question 1\n",
    "    Please refer to split_data.py and utility.py."
   ]
  },
  {
   "cell_type": "code",
   "execution_count": 2,
   "metadata": {
    "collapsed": false
   },
   "outputs": [],
   "source": [
    "# pre-process data\n",
    "training_X, training_Y, validation_X, validation_Y, test_X, test_Y, vocabulary = format_dataset(X=20)"
   ]
  },
  {
   "cell_type": "markdown",
   "metadata": {
    "collapsed": true
   },
   "source": [
    "### Question 2\n"
   ]
  },
  {
   "cell_type": "code",
   "execution_count": 3,
   "metadata": {
    "collapsed": false
   },
   "outputs": [],
   "source": [
    "def error(W, X, Y):\n",
    "    # np.dot(X, W) * Y == 0 is not treated as error because there are feature vectors that only contains 0.\n",
    "    return np.sum(np.dot(X, W) * Y < 0)\n",
    "def perceptron_error(W, X, Y):\n",
    "    N, D = X.shape\n",
    "    return error(W, X, Y) / N\n",
    "# train perceptron using full batch\n",
    "# def perceptron_train(W, X, Y, learning_rate=1, logging_interval=1, maximum_n_iterations=None):\n",
    "#     N, D = X.shape\n",
    "#     total_n_errors = 0\n",
    "#     n_iterations = 0\n",
    "#     while True:\n",
    "#         t0 = time.time()\n",
    "#         predictions = np.dot(X, W)\n",
    "#         update_filter = predictions * Y < 0\n",
    "#         n_errors = np.sum(update_filter)\n",
    "#         if n_errors == 0: break\n",
    "#         else: total_n_errors += n_errors\n",
    "#         gradient = np.sum(update_filter * Y * X, axis=0).reshape((D, 1))\n",
    "#         W += learning_rate * gradient\n",
    "#         n_iterations += 1\n",
    "#         if maximum_n_iterations is not None and maximum_n_iterations < n_iterations: break\n",
    "#         if isinstance(logging_interval, int):\n",
    "#             if n_iterations % logging_interval == 0:\n",
    "#                 print('iteration %d errors %d time %fs' % (n_iterations, n_errors, time.time() - t0))\n",
    "#     return W, total_n_errors, n_iterations\n",
    "def perceptron_train(W, X, Y, logging_interval=1, maximum_n_iterations=None):\n",
    "    N, D = X.shape\n",
    "    total_n_errors = 0\n",
    "    n_iterations = 0\n",
    "    while True:\n",
    "        current_iteration_n_errors = 0\n",
    "        for i, point in enumerate(zip(X, Y)):\n",
    "            data, label = point\n",
    "            if np.sum(data) == 0: continue\n",
    "            prediction = np.dot(data, W)\n",
    "            if not prediction * label > 0:\n",
    "                current_iteration_n_errors += 1\n",
    "                W += (label * data).reshape((D, 1))\n",
    "        n_iterations += 1\n",
    "        if logging_interval is not None and n_iterations % logging_interval == 0:\n",
    "            print('iteration %d %d errors encountered' % (n_iterations, current_iteration_n_errors))\n",
    "        total_n_errors += current_iteration_n_errors\n",
    "        if current_iteration_n_errors == 0 or current_iteration_n_errors == maximum_n_iterations: break\n",
    "    return W, total_n_errors, n_iterations"
   ]
  },
  {
   "cell_type": "markdown",
   "metadata": {},
   "source": [
    "### Question 3\n",
    "    Train perceptron."
   ]
  },
  {
   "cell_type": "code",
   "execution_count": 4,
   "metadata": {
    "collapsed": false
   },
   "outputs": [
    {
     "name": "stdout",
     "output_type": "stream",
     "text": [
      "iteration 1 242 errors encountered\n",
      "iteration 2 73 errors encountered\n",
      "iteration 3 36 errors encountered\n",
      "iteration 4 12 errors encountered\n",
      "iteration 5 16 errors encountered\n",
      "iteration 6 12 errors encountered\n",
      "iteration 7 4 errors encountered\n",
      "iteration 8 6 errors encountered\n",
      "iteration 9 6 errors encountered\n",
      "iteration 10 5 errors encountered\n",
      "iteration 11 5 errors encountered\n",
      "iteration 12 8 errors encountered\n",
      "iteration 13 0 errors encountered\n"
     ]
    }
   ],
   "source": [
    "D = len(vocabulary) # dimension of feature vector\n",
    "W = np.zeros((D, 1))\n",
    "N_TRAINING_SAMPLES = 4000\n",
    "W, n_errors, n_iterations = perceptron_train(\n",
    "    W,\n",
    "    training_X[:N_TRAINING_SAMPLES],\n",
    "    training_Y[:N_TRAINING_SAMPLES],\n",
    "    logging_interval=1\n",
    ")"
   ]
  },
  {
   "cell_type": "code",
   "execution_count": 5,
   "metadata": {
    "collapsed": false
   },
   "outputs": [
    {
     "data": {
      "text/plain": [
       "425"
      ]
     },
     "execution_count": 5,
     "metadata": {},
     "output_type": "execute_result"
    }
   ],
   "source": [
    "# total errors encountered\n",
    "n_errors"
   ]
  },
  {
   "cell_type": "code",
   "execution_count": 6,
   "metadata": {
    "collapsed": false
   },
   "outputs": [
    {
     "data": {
      "text/plain": [
       "13"
      ]
     },
     "execution_count": 6,
     "metadata": {},
     "output_type": "execute_result"
    }
   ],
   "source": [
    "# number of iterations\n",
    "n_iterations"
   ]
  },
  {
   "cell_type": "code",
   "execution_count": 7,
   "metadata": {
    "collapsed": false
   },
   "outputs": [
    {
     "data": {
      "text/plain": [
       "0.0"
      ]
     },
     "execution_count": 7,
     "metadata": {},
     "output_type": "execute_result"
    }
   ],
   "source": [
    "# check whether there is no error on training set\n",
    "perceptron_error(W, training_X, training_Y)"
   ]
  },
  {
   "cell_type": "code",
   "execution_count": 8,
   "metadata": {
    "collapsed": false
   },
   "outputs": [
    {
     "data": {
      "text/plain": [
       "0.014"
      ]
     },
     "execution_count": 8,
     "metadata": {},
     "output_type": "execute_result"
    }
   ],
   "source": [
    "# test perceptron on validation set\n",
    "validation_errors = perceptron_error(W, validation_X, validation_Y)\n",
    "validation_errors"
   ]
  },
  {
   "cell_type": "markdown",
   "metadata": {},
   "source": [
    "### Question 4"
   ]
  },
  {
   "cell_type": "code",
   "execution_count": 9,
   "metadata": {
    "collapsed": false
   },
   "outputs": [
    {
     "name": "stdout",
     "output_type": "stream",
     "text": [
      "12 most negative words: still wrote i messag but inc note prefer on set standard two\n",
      "12 most positive words: further present within hour market remov yourself below deathtospamdeathtospamdeathtospam guarante our sight\n"
     ]
    }
   ],
   "source": [
    "weights = W.tolist()\n",
    "sorted_vocabulary = sorted(vocabulary, key=lambda word: weights[vocabulary.index(word)])\n",
    "N = 12\n",
    "n_words = len(vocabulary)\n",
    "print('%d most negative words:' % N, *sorted_vocabulary[:N])\n",
    "print('%d most positive words:' % N, *sorted_vocabulary[n_words - N:])"
   ]
  },
  {
   "cell_type": "markdown",
   "metadata": {},
   "source": [
    "### Question 5 & Question 6\n",
    "    Investigate the influence of number of training samples on test accuracy and number of iteration."
   ]
  },
  {
   "cell_type": "code",
   "execution_count": 10,
   "metadata": {
    "collapsed": false
   },
   "outputs": [],
   "source": [
    "# record number of iteration and validation error\n",
    "n_update_table = {4000 : n_iterations}\n",
    "validation_error_table = {4000 : validation_errors}\n",
    "for N_TRAINING_SAMPLES in (100, 200, 400, 800, 2000):\n",
    "    W = np.zeros((D, 1))\n",
    "    W, n_errors, n_iterations = perceptron_train(\n",
    "        W,\n",
    "        training_X[:N_TRAINING_SAMPLES],\n",
    "        training_Y[:N_TRAINING_SAMPLES],\n",
    "        logging_interval=None\n",
    "    )\n",
    "    n_update_table[N_TRAINING_SAMPLES] = n_iterations\n",
    "    # use validation data to test perceptron\n",
    "    validation_error_table[N_TRAINING_SAMPLES] = perceptron_error(W, validation_X, validation_Y)"
   ]
  },
  {
   "cell_type": "code",
   "execution_count": 11,
   "metadata": {
    "collapsed": false
   },
   "outputs": [
    {
     "data": {
      "image/png": "[encoded data removed]",
      "text/plain": [
       "<matplotlib.figure.Figure at 0x7f1722949198>"
      ]
     },
     "metadata": {},
     "output_type": "display_data"
    }
   ],
   "source": [
    "# plot number of iteration\n",
    "pl.plot(list(n_update_table.keys()), list(n_update_table.values()), 'bo')\n",
    "pl.xlabel('number of training samples')\n",
    "pl.ylabel('number of iterations')\n",
    "pl.title('number of iterations required for 0 training error')\n",
    "pl.xlim(0, 4500)\n",
    "pl.ylim(0, 15)\n",
    "pl.grid()"
   ]
  },
  {
   "cell_type": "code",
   "execution_count": 12,
   "metadata": {
    "collapsed": false
   },
   "outputs": [
    {
     "data": {
      "image/png": "[encoded data removed]",
      "text/plain": [
       "<matplotlib.figure.Figure at 0x7f172294bf60>"
      ]
     },
     "metadata": {},
     "output_type": "display_data"
    }
   ],
   "source": [
    "# plot validation error\n",
    "pl.plot(list(validation_error_table.keys()), list(validation_error_table.values()), 'bo')\n",
    "pl.xlabel('number of training samples')\n",
    "pl.ylabel('validation error')\n",
    "pl.title('validation error')\n",
    "pl.xlim(0, 4500)\n",
    "pl.ylim(0, 0.1)\n",
    "pl.grid()"
   ]
  },
  {
   "cell_type": "markdown",
   "metadata": {},
   "source": [
    "### Question 7\n",
    "    Control the maximum number of iterations and observe its influence."
   ]
  },
  {
   "cell_type": "code",
   "execution_count": 13,
   "metadata": {
    "collapsed": false
   },
   "outputs": [
    {
     "name": "stdout",
     "output_type": "stream",
     "text": [
      "iteration 1 242 errors encountered\n",
      "iteration 2 73 errors encountered\n",
      "iteration 3 36 errors encountered\n",
      "iteration 4 12 errors encountered\n",
      "iteration 5 16 errors encountered\n",
      "iteration 6 12 errors encountered\n",
      "iteration 7 4 errors encountered\n",
      "iteration 8 6 errors encountered\n",
      "iteration 9 6 errors encountered\n",
      "iteration 10 5 errors encountered\n",
      "iteration 11 5 errors encountered\n",
      "iteration 12 8 errors encountered\n",
      "iteration 13 0 errors encountered\n"
     ]
    }
   ],
   "source": [
    "W = np.zeros((D, 1))\n",
    "N_TRAINING_SAMPLES = 4000\n",
    "MAXIMUM_n_iterations = 20\n",
    "W, n_errors, n_iterations = perceptron_train(\n",
    "    W,\n",
    "    training_X[:N_TRAINING_SAMPLES],\n",
    "    training_Y[:N_TRAINING_SAMPLES],\n",
    "    maximum_n_iterations=MAXIMUM_n_iterations # set maximum number of iterations\n",
    ")"
   ]
  },
  {
   "cell_type": "code",
   "execution_count": 14,
   "metadata": {
    "collapsed": false
   },
   "outputs": [
    {
     "data": {
      "text/plain": [
       "0.014"
      ]
     },
     "execution_count": 14,
     "metadata": {},
     "output_type": "execute_result"
    }
   ],
   "source": [
    "# validation error\n",
    "perceptron_error(W, validation_X, validation_Y)"
   ]
  },
  {
   "cell_type": "markdown",
   "metadata": {},
   "source": [
    "### Question 8\n",
    "    Search the hyperparameter space of X."
   ]
  },
  {
   "cell_type": "code",
   "execution_count": 15,
   "metadata": {
    "collapsed": false
   },
   "outputs": [],
   "source": [
    "validation_error_table = {}\n",
    "optimal_validation_error = 1\n",
    "for X in (30, 40, 50, 60, 80, 100, 120, 160, 200):\n",
    "    training_X, training_Y, validation_X, validation_Y, test_X, test_Y, vocabulary = format_dataset(X)\n",
    "    W = np.zeros((len(vocabulary), 1))\n",
    "    W, n_errors, n_updates = perceptron_train(W, training_X, training_Y, logging_interval=None)\n",
    "    validation_error = perceptron_error(W, validation_X, validation_Y)\n",
    "    validation_error_table[X] = validation_error\n",
    "    if validation_error < optimal_validation_error:\n",
    "        optimal_validation_error = validation_error\n",
    "        optimal_W = W\n",
    "        optimal_test_X, optimal_test_Y = test_X, test_Y"
   ]
  },
  {
   "cell_type": "code",
   "execution_count": 16,
   "metadata": {
    "collapsed": false
   },
   "outputs": [
    {
     "data": {
      "image/png": "[encoded data removed]",
      "text/plain": [
       "<matplotlib.figure.Figure at 0x7f17229320b8>"
      ]
     },
     "metadata": {},
     "output_type": "display_data"
    }
   ],
   "source": [
    "# plot validation error\n",
    "pl.plot(list(validation_error_table.keys()), list(validation_error_table.values()), 'bo')\n",
    "pl.xlabel('X')\n",
    "pl.ylabel('validation error')\n",
    "pl.title('validation error')\n",
    "pl.xlim(0, 250)\n",
    "pl.ylim(0, 0.03)\n",
    "pl.grid()"
   ]
  },
  {
   "cell_type": "code",
   "execution_count": 17,
   "metadata": {
    "collapsed": false
   },
   "outputs": [
    {
     "data": {
      "text/plain": [
       "0.017000000000000001"
      ]
     },
     "execution_count": 17,
     "metadata": {},
     "output_type": "execute_result"
    }
   ],
   "source": [
    "optimal_validation_error"
   ]
  },
  {
   "cell_type": "code",
   "execution_count": 18,
   "metadata": {
    "collapsed": false
   },
   "outputs": [
    {
     "data": {
      "text/plain": [
       "0.017999999999999999"
      ]
     },
     "execution_count": 18,
     "metadata": {},
     "output_type": "execute_result"
    }
   ],
   "source": [
    "# test optimal perceptron\n",
    "perceptron_error(optimal_W, optimal_test_X, optimal_test_Y)"
   ]
  },
  {
   "cell_type": "markdown",
   "metadata": {},
   "source": [
    "### Question 9\n",
    "    Provided X equaling 1200, the data is not linearly separable."
   ]
  },
  {
   "cell_type": "code",
   "execution_count": 19,
   "metadata": {
    "collapsed": true
   },
   "outputs": [],
   "source": [
    "# generate data\n",
    "training_X, training_Y, validation_X, validation_Y, test_X, test_Y, vocabulary = format_dataset(X=1200)"
   ]
  },
  {
   "cell_type": "code",
   "execution_count": 20,
   "metadata": {
    "collapsed": false
   },
   "outputs": [
    {
     "data": {
      "text/plain": [
       "53"
      ]
     },
     "execution_count": 20,
     "metadata": {},
     "output_type": "execute_result"
    }
   ],
   "source": [
    "# number of features\n",
    "len(vocabulary)"
   ]
  },
  {
   "cell_type": "code",
   "execution_count": 21,
   "metadata": {
    "collapsed": false
   },
   "outputs": [
    {
     "data": {
      "text/plain": [
       "9"
      ]
     },
     "execution_count": 21,
     "metadata": {},
     "output_type": "execute_result"
    }
   ],
   "source": [
    "# count the number of identical data points that are labelled differently\n",
    "positive_set = set(tuple(point) for point in training_X[training_Y.flatten() == 1].tolist())\n",
    "negative_set = set(tuple(point) for point in training_X[training_Y.flatten() == -1].tolist())\n",
    "len(positive_set & negative_set)"
   ]
  },
  {
   "cell_type": "markdown",
   "metadata": {},
   "source": [
    "### Question 10\n",
    "    The purpose of training set is to enable model to learn from data. Validation set is used to optimize hyperparameters involved in model while not touching test data. Test set is used to evaluate the performance of a model when it encounters data that it never encountered previously."
   ]
  }
 ],
 "metadata": {
  "anaconda-cloud": {},
  "kernelspec": {
   "display_name": "Python 3",
   "language": "python",
   "name": "python3"
  },
  "language_info": {
   "codemirror_mode": {
    "name": "ipython",
    "version": 3
   },
   "file_extension": ".py",
   "mimetype": "text/x-python",
   "name": "python",
   "nbconvert_exporter": "python",
   "pygments_lexer": "ipython3",
   "version": "3.4.3"
  }
 },
 "nbformat": 4,
 "nbformat_minor": 1
}
