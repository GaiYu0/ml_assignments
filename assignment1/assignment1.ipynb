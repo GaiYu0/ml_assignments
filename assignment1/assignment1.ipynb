{
 "cells": [
  {
   "cell_type": "code",
   "execution_count": 1,
   "metadata": {
    "collapsed": false
   },
   "outputs": [
    {
     "name": "stderr",
     "output_type": "stream",
     "text": [
      "/usr/local/lib/python3.4/dist-packages/matplotlib/backends/backend_gtk3agg.py:18: UserWarning: The Gtk3Agg backend is known to not work on Python 3.x with pycairo. Try installing cairocffi.\n",
      "  \"The Gtk3Agg backend is known to not work on Python 3.x with pycairo. \"\n"
     ]
    }
   ],
   "source": [
    "import pickle\n",
    "import matplotlib.pylab as pl\n",
    "%matplotlib inline\n",
    "import numpy as np\n",
    "import time\n",
    "from utility import *"
   ]
  },
  {
   "cell_type": "markdown",
   "metadata": {},
   "source": [
    "### Question 1\n",
    "    Please refer to split_data.py and utility.py."
   ]
  },
  {
   "cell_type": "code",
   "execution_count": 2,
   "metadata": {
    "collapsed": false
   },
   "outputs": [],
   "source": [
    "# pre-process data\n",
    "training_X, training_Y, validation_X, validation_Y, test_X, test_Y, vocabulary = format_dataset(X=20)"
   ]
  },
  {
   "cell_type": "markdown",
   "metadata": {
    "collapsed": true
   },
   "source": [
    "### Question 2\n"
   ]
  },
  {
   "cell_type": "code",
   "execution_count": 3,
   "metadata": {
    "collapsed": false
   },
   "outputs": [],
   "source": [
    "def error(W, X, Y):\n",
    "    # np.dot(X, W) * Y == 0 is not treated as error because there are feature vectors that only contains 0.\n",
    "    return np.sum(np.dot(X, W) * Y < 0)\n",
    "def perceptron_error(W, X, Y):\n",
    "    N, D = X.shape\n",
    "    return error(W, X, Y) / N\n",
    "def perceptron_train(W, X, Y, learning_rate=1, logging_interval=1, maximum_n_iterations=None):\n",
    "    N, D = X.shape\n",
    "    total_n_errors = 0\n",
    "    n_iterations = 0\n",
    "    while True:\n",
    "        t0 = time.time()\n",
    "        predictions = np.dot(X, W)\n",
    "        update_filter = predictions * Y < 0\n",
    "        n_errors = np.sum(update_filter)\n",
    "        if n_errors == 0: break\n",
    "        else: total_n_errors += n_errors\n",
    "        gradient = np.sum(update_filter * Y * X, axis=0).reshape((D, 1))\n",
    "        W += learning_rate * gradient\n",
    "        n_iterations += 1\n",
    "        if maximum_n_iterations is not None and maximum_n_iterations < n_iterations: break\n",
    "        if isinstance(logging_interval, int):\n",
    "            if n_iterations % logging_interval == 0:\n",
    "                print('iteration %d errors %d time %fs' % (n_iterations, n_errors, time.time() - t0))\n",
    "    return W, total_n_errors, n_iterations"
   ]
  },
  {
   "cell_type": "markdown",
   "metadata": {},
   "source": [
    "### Question 3\n",
    "    Train perceptron."
   ]
  },
  {
   "cell_type": "code",
   "execution_count": 4,
   "metadata": {
    "collapsed": false
   },
   "outputs": [
    {
     "name": "stdout",
     "output_type": "stream",
     "text": [
      "iteration 50 errors 51 time 0.098136s\n",
      "iteration 100 errors 11 time 0.098049s\n",
      "iteration 150 errors 9 time 0.101265s\n",
      "iteration 200 errors 3 time 0.101897s\n",
      "iteration 250 errors 3 time 0.098574s\n"
     ]
    }
   ],
   "source": [
    "D = len(vocabulary) # dimension of feature vector\n",
    "W = np.random.normal(0, 1, (D, 1)) # initialize weights\n",
    "N_TRAINING_SAMPLES = 4000\n",
    "W, n_errors, n_iterations = perceptron_train(\n",
    "    W,\n",
    "    training_X[:N_TRAINING_SAMPLES],\n",
    "    training_Y[:N_TRAINING_SAMPLES],\n",
    "    logging_interval=50\n",
    ")"
   ]
  },
  {
   "cell_type": "code",
   "execution_count": 5,
   "metadata": {
    "collapsed": false
   },
   "outputs": [
    {
     "data": {
      "text/plain": [
       "15006"
      ]
     },
     "execution_count": 5,
     "metadata": {},
     "output_type": "execute_result"
    }
   ],
   "source": [
    "# total errors encountered\n",
    "n_errors"
   ]
  },
  {
   "cell_type": "code",
   "execution_count": 6,
   "metadata": {
    "collapsed": false
   },
   "outputs": [
    {
     "data": {
      "text/plain": [
       "256"
      ]
     },
     "execution_count": 6,
     "metadata": {},
     "output_type": "execute_result"
    }
   ],
   "source": [
    "# number of iterations\n",
    "n_iterations"
   ]
  },
  {
   "cell_type": "code",
   "execution_count": 7,
   "metadata": {
    "collapsed": false
   },
   "outputs": [
    {
     "data": {
      "text/plain": [
       "0.0"
      ]
     },
     "execution_count": 7,
     "metadata": {},
     "output_type": "execute_result"
    }
   ],
   "source": [
    "# check whether there is no error on training set\n",
    "perceptron_error(W, training_X, training_Y)"
   ]
  },
  {
   "cell_type": "code",
   "execution_count": 8,
   "metadata": {
    "collapsed": false
   },
   "outputs": [
    {
     "data": {
      "text/plain": [
       "0.016"
      ]
     },
     "execution_count": 8,
     "metadata": {},
     "output_type": "execute_result"
    }
   ],
   "source": [
    "# test perceptron on validation set\n",
    "validation_errors = perceptron_error(W, validation_X, validation_Y)\n",
    "validation_errors"
   ]
  },
  {
   "cell_type": "markdown",
   "metadata": {},
   "source": [
    "### Question 4\n",
    "    Investigate most positive/negative words. It is reasonable that words related to advertisement, e.g. \"dollarnumb\", \"click\" receive very positive weights."
   ]
  },
  {
   "cell_type": "code",
   "execution_count": 9,
   "metadata": {
    "collapsed": false
   },
   "outputs": [
    {
     "name": "stdout",
     "output_type": "stream",
     "text": [
      "12 most negative words: wrote i but date user chang it on what thei set which\n",
      "12 most positive words: free form sight below email dollarnumb we pleas your click remov our\n"
     ]
    }
   ],
   "source": [
    "weights = W.tolist()\n",
    "sorted_weights = sorted(weights)\n",
    "N = 12\n",
    "negative_N = tuple(vocabulary[weights.index(weight)] for weight in sorted_weights[:N])\n",
    "positive_N = tuple(vocabulary[weights.index(weight)] for weight in sorted_weights[len(sorted_weights) - N:])\n",
    "print('%d most negative words:' % N, *negative_N)\n",
    "print('%d most positive words:' % N, *positive_N)"
   ]
  },
  {
   "cell_type": "markdown",
   "metadata": {},
   "source": [
    "### Question 5 & Question 6\n",
    "    Investigate the influence of number of training samples on test accuracy and number of iteration."
   ]
  },
  {
   "cell_type": "code",
   "execution_count": 10,
   "metadata": {
    "collapsed": false
   },
   "outputs": [],
   "source": [
    "# record number of iteration and validation error\n",
    "n_update_table = {4000 : n_iterations}\n",
    "validation_error_table = {4000 : validation_errors}\n",
    "for N_TRAINING_SAMPLES in (100, 200, 400, 800, 2000):\n",
    "    W = np.random.normal(0, 1, (D, 1))\n",
    "    W, n_errors, n_iterations = perceptron_train(\n",
    "        W,\n",
    "        training_X[:N_TRAINING_SAMPLES],\n",
    "        training_Y[:N_TRAINING_SAMPLES],\n",
    "        logging_interval=None\n",
    "    )\n",
    "    n_update_table[N_TRAINING_SAMPLES] = n_iterations\n",
    "    # use validation data to test perceptron\n",
    "    validation_error_table[N_TRAINING_SAMPLES] = perceptron_error(W, validation_X, validation_Y)"
   ]
  },
  {
   "cell_type": "code",
   "execution_count": 11,
   "metadata": {
    "collapsed": false
   },
   "outputs": [
    {
     "data": {
      "image/png": "[encoded data removed]",
      "text/plain": [
       "<matplotlib.figure.Figure at 0x7f9bb7c44048>"
      ]
     },
     "metadata": {},
     "output_type": "display_data"
    }
   ],
   "source": [
    "# plot number of iteration\n",
    "pl.plot(list(n_update_table.keys()), list(n_update_table.values()), 'bo')\n",
    "pl.xlabel('number of training samples')\n",
    "pl.ylabel('number of iterations')\n",
    "pl.title('number of iterations required for 0 training error')\n",
    "pl.grid()"
   ]
  },
  {
   "cell_type": "code",
   "execution_count": 12,
   "metadata": {
    "collapsed": false
   },
   "outputs": [
    {
     "data": {
      "image/png": "[encoded data removed]",
      "text/plain": [
       "<matplotlib.figure.Figure at 0x7f9bb7a78e80>"
      ]
     },
     "metadata": {},
     "output_type": "display_data"
    }
   ],
   "source": [
    "# plot validation error\n",
    "pl.plot(list(validation_error_table.keys()), list(validation_error_table.values()), 'bo')\n",
    "pl.xlabel('number of training samples')\n",
    "pl.ylabel('validation error')\n",
    "pl.title('validation error')\n",
    "pl.grid()"
   ]
  },
  {
   "cell_type": "markdown",
   "metadata": {},
   "source": [
    "### Question 7\n",
    "    Control the maximum number of iterations and observe its influence."
   ]
  },
  {
   "cell_type": "code",
   "execution_count": 13,
   "metadata": {
    "collapsed": false
   },
   "outputs": [
    {
     "name": "stdout",
     "output_type": "stream",
     "text": [
      "iteration 1 errors 1888 time 0.114920s\n",
      "iteration 2 errors 1251 time 0.117232s\n",
      "iteration 3 errors 2664 time 0.109023s\n",
      "iteration 4 errors 1251 time 0.102234s\n",
      "iteration 5 errors 845 time 0.101758s\n",
      "iteration 6 errors 590 time 0.101067s\n",
      "iteration 7 errors 477 time 0.099957s\n",
      "iteration 8 errors 245 time 0.100957s\n",
      "iteration 9 errors 177 time 0.098763s\n",
      "iteration 10 errors 131 time 0.100522s\n",
      "iteration 11 errors 123 time 0.098916s\n",
      "iteration 12 errors 118 time 0.098978s\n",
      "iteration 13 errors 113 time 0.100606s\n",
      "iteration 14 errors 114 time 0.098815s\n",
      "iteration 15 errors 111 time 0.098837s\n",
      "iteration 16 errors 106 time 0.101076s\n",
      "iteration 17 errors 99 time 0.098991s\n",
      "iteration 18 errors 96 time 0.098690s\n",
      "iteration 19 errors 92 time 0.101197s\n",
      "iteration 20 errors 89 time 0.098969s\n"
     ]
    }
   ],
   "source": [
    "W = np.random.normal(0, 1, (D, 1))\n",
    "N_TRAINING_SAMPLES = 4000\n",
    "MAXIMUM_n_iterations = 20\n",
    "W, n_errors, n_iterations = perceptron_train(\n",
    "    W,\n",
    "    training_X[:N_TRAINING_SAMPLES],\n",
    "    training_Y[:N_TRAINING_SAMPLES],\n",
    "    maximum_n_iterations=MAXIMUM_n_iterations # set maximum number of iterations\n",
    ")"
   ]
  },
  {
   "cell_type": "code",
   "execution_count": 14,
   "metadata": {
    "collapsed": false
   },
   "outputs": [
    {
     "data": {
      "text/plain": [
       "0.019"
      ]
     },
     "execution_count": 14,
     "metadata": {},
     "output_type": "execute_result"
    }
   ],
   "source": [
    "# validation error\n",
    "perceptron_error(W, validation_X, validation_Y)"
   ]
  },
  {
   "cell_type": "markdown",
   "metadata": {},
   "source": [
    "### Question 8\n",
    "    Search the hyperparameter space of X."
   ]
  },
  {
   "cell_type": "code",
   "execution_count": 15,
   "metadata": {
    "collapsed": false
   },
   "outputs": [],
   "source": [
    "validation_error_table = {}\n",
    "optimal_validation_error = 1\n",
    "for X in (30, 40, 50, 60, 80, 100, 120, 160, 200):\n",
    "    training_X, training_Y, validation_X, validation_Y, test_X, test_Y, vocabulary = format_dataset(X)\n",
    "    W = np.random.normal(0, 1, (len(vocabulary), 1))\n",
    "    W, n_errors, n_updates = perceptron_train(W, training_X, training_Y, logging_interval=None)\n",
    "    validation_error = perceptron_error(W, validation_X, validation_Y)\n",
    "    validation_error_table[X] = validation_error\n",
    "    if validation_error < optimal_validation_error:\n",
    "        optimal_validation_error = validation_error\n",
    "        optimal_W = W"
   ]
  },
  {
   "cell_type": "code",
   "execution_count": 16,
   "metadata": {
    "collapsed": false
   },
   "outputs": [
    {
     "data": {
      "image/png": "[encoded data removed]",
      "text/plain": [
       "<matplotlib.figure.Figure at 0x7f9bb7bc9f98>"
      ]
     },
     "metadata": {},
     "output_type": "display_data"
    }
   ],
   "source": [
    "# plot validation error\n",
    "pl.plot(list(validation_error_table.keys()), list(validation_error_table.values()), 'bo')\n",
    "pl.xlabel('X')\n",
    "pl.ylabel('validation error')\n",
    "pl.title('validation error')\n",
    "pl.grid()"
   ]
  },
  {
   "cell_type": "code",
   "execution_count": 17,
   "metadata": {
    "collapsed": false
   },
   "outputs": [
    {
     "data": {
      "text/plain": [
       "0.021999999999999999"
      ]
     },
     "execution_count": 17,
     "metadata": {},
     "output_type": "execute_result"
    }
   ],
   "source": [
    "# test optimal perceptron\n",
    "perceptron_error(W, test_X, test_Y)"
   ]
  },
  {
   "cell_type": "markdown",
   "metadata": {},
   "source": [
    "### Question 9\n",
    "    Provided X equaling 1200, the data is not linearly separable."
   ]
  },
  {
   "cell_type": "code",
   "execution_count": 18,
   "metadata": {
    "collapsed": true
   },
   "outputs": [],
   "source": [
    "# generate data\n",
    "training_X, training_Y, validation_X, validation_Y, test_X, test_Y, vocabulary = format_dataset(X=1200)"
   ]
  },
  {
   "cell_type": "code",
   "execution_count": 19,
   "metadata": {
    "collapsed": false
   },
   "outputs": [
    {
     "data": {
      "text/plain": [
       "53"
      ]
     },
     "execution_count": 19,
     "metadata": {},
     "output_type": "execute_result"
    }
   ],
   "source": [
    "# number of features\n",
    "len(vocabulary)"
   ]
  },
  {
   "cell_type": "code",
   "execution_count": 20,
   "metadata": {
    "collapsed": false
   },
   "outputs": [
    {
     "data": {
      "text/plain": [
       "9"
      ]
     },
     "execution_count": 20,
     "metadata": {},
     "output_type": "execute_result"
    }
   ],
   "source": [
    "# count the number of identical data points that are labelled differently\n",
    "positive_set = set(tuple(point) for point in training_X[training_Y.flatten() == 1].tolist())\n",
    "negative_set = set(tuple(point) for point in training_X[training_Y.flatten() == -1].tolist())\n",
    "len(positive_set & negative_set)"
   ]
  },
  {
   "cell_type": "markdown",
   "metadata": {},
   "source": [
    "### Question 10\n",
    "    The purpose of training set is to enable model to learn from data. Validation set is used to optimize hyperparameters involved in model while not touching test data. Test set is used to evaluate the performance of a model when it encounters data that it never encountered previously."
   ]
  }
 ],
 "metadata": {
  "anaconda-cloud": {},
  "kernelspec": {
   "display_name": "Python 3",
   "language": "python",
   "name": "python3"
  },
  "language_info": {
   "codemirror_mode": {
    "name": "ipython",
    "version": 3
   },
   "file_extension": ".py",
   "mimetype": "text/x-python",
   "name": "python",
   "nbconvert_exporter": "python",
   "pygments_lexer": "ipython3",
   "version": "3.4.3"
  }
 },
 "nbformat": 4,
 "nbformat_minor": 1
}
