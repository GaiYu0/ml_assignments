{
 "cells": [
  {
   "cell_type": "code",
   "execution_count": 1,
   "metadata": {
    "collapsed": false
   },
   "outputs": [],
   "source": [
    "import numpy as np\n",
    "import pickle\n",
    "from sklearn.model_selection import cross_val_score\n",
    "from sklearn.svm import SVC"
   ]
  },
  {
   "cell_type": "code",
   "execution_count": 2,
   "metadata": {
    "collapsed": true
   },
   "outputs": [],
   "source": [
    "def load_data(file):\n",
    "    data, labels = [], []\n",
    "    for line in open(file):\n",
    "        content = list(map(int, line.split(',')))\n",
    "        data.append(content[1:])\n",
    "        labels.append(content[0])\n",
    "    X = np.array(data)\n",
    "    X = X * 2 / 255 - 1\n",
    "    Y = np.array(labels)\n",
    "    return X, Y\n",
    "def load_dataset(training_set='mnist_train.txt', test_set='mnist_test.txt'):\n",
    "    training_X, training_Y = load_data(training_set)\n",
    "    test_X, test_Y = load_data(test_set)\n",
    "    return training_X, training_Y, test_X, test_Y"
   ]
  },
  {
   "cell_type": "code",
   "execution_count": 3,
   "metadata": {
    "collapsed": false
   },
   "outputs": [],
   "source": [
    "training_X, training_Y, test_X, test_Y = load_dataset()"
   ]
  },
  {
   "cell_type": "code",
   "execution_count": 4,
   "metadata": {
    "collapsed": true
   },
   "outputs": [],
   "source": [
    "def calculate_accuracy(predictions, labels):\n",
    "    return 1 - np.count_nonzero(predictions - labels) / float(len(predictions))"
   ]
  },
  {
   "cell_type": "code",
   "execution_count": 5,
   "metadata": {
    "collapsed": false
   },
   "outputs": [
    {
     "data": {
      "text/plain": [
       "0.922"
      ]
     },
     "execution_count": 5,
     "metadata": {},
     "output_type": "execute_result"
    }
   ],
   "source": [
    "classifier = SVC()\n",
    "classifier.fit(training_X, training_Y)\n",
    "calculate_accuracy(classifier.predict(test_X), test_Y)"
   ]
  },
  {
   "cell_type": "code",
   "execution_count": 6,
   "metadata": {
    "collapsed": false
   },
   "outputs": [],
   "source": [
    "def cross_validate(X, Y, folds, estimator, verbose=False):\n",
    "    def generate():\n",
    "        fold_length = len(X) // folds\n",
    "        for index in range(folds):\n",
    "            start = index * fold_length\n",
    "            end = (index + 1) * fold_length\n",
    "            yield \\\n",
    "                np.vstack((X[:start], X[end:])), \\\n",
    "                np.hstack((Y[:start], Y[end:])), \\\n",
    "                X[start : end], \\\n",
    "                Y[start : end]\n",
    "    from copy import deepcopy as copy\n",
    "    estimators = tuple(copy(estimator) for f in range(folds))\n",
    "    accuracy = []\n",
    "    for index, zipped in enumerate(zip(generate(), estimators)):\n",
    "        fold, e = zipped\n",
    "        X_fold, Y_fold, validation_X_fold, validation_Y_fold = fold\n",
    "        e.fit(X_fold, Y_fold)\n",
    "        accuracy.append(calculate_accuracy(e.predict(validation_X_fold), validation_Y_fold))\n",
    "        if verbose: print('validation fold %d accuracy %f' % (index, accuracy[-1]))\n",
    "    optimal_accuracy = max(accuracy)\n",
    "    return optimal_accuracy, estimators[accuracy.index(optimal_accuracy)]"
   ]
  },
  {
   "cell_type": "code",
   "execution_count": 7,
   "metadata": {
    "collapsed": false
   },
   "outputs": [
    {
     "name": "stdout",
     "output_type": "stream",
     "text": [
      "validation fold 0 accuracy 0.912500\n",
      "validation fold 1 accuracy 0.915000\n",
      "validation fold 2 accuracy 0.915000\n",
      "validation fold 3 accuracy 0.920000\n",
      "validation fold 4 accuracy 0.922500\n",
      "cross validation accuracy 0.9225\n",
      "test accuracy 0.923\n"
     ]
    }
   ],
   "source": [
    "accuracy, classifier = cross_validate(training_X, training_Y, 5, SVC(), verbose=True)\n",
    "print('cross validation accuracy', accuracy)\n",
    "test_accuracy = calculate_accuracy(classifier.predict(test_X), test_Y)\n",
    "print('test accuracy', test_accuracy)"
   ]
  },
  {
   "cell_type": "code",
   "execution_count": 8,
   "metadata": {
    "collapsed": false
   },
   "outputs": [
    {
     "name": "stdout",
     "output_type": "stream",
     "text": [
      "C = 1.000000; gamma = 0.001276;\n",
      "cross validation accuracy 0.9225\n",
      "test accuracy 0.923\n",
      "C = 1.000000; gamma = 0.002551;\n",
      "cross validation accuracy 0.935\n",
      "test accuracy 0.931\n",
      "C = 1.000000; gamma = 0.003827;\n",
      "cross validation accuracy 0.9425\n",
      "test accuracy 0.937\n",
      "C = 1.000000; gamma = 0.005102;\n",
      "cross validation accuracy 0.95\n",
      "test accuracy 0.942\n",
      "C = 2.000000; gamma = 0.001276;\n",
      "cross validation accuracy 0.9275\n",
      "test accuracy 0.917\n",
      "C = 2.000000; gamma = 0.002551;\n",
      "cross validation accuracy 0.945\n",
      "test accuracy 0.931\n",
      "C = 2.000000; gamma = 0.003827;\n",
      "cross validation accuracy 0.95\n",
      "test accuracy 0.9390000000000001\n",
      "C = 2.000000; gamma = 0.005102;\n",
      "cross validation accuracy 0.955\n",
      "test accuracy 0.946\n",
      "C = 3.000000; gamma = 0.001276;\n",
      "cross validation accuracy 0.935\n",
      "test accuracy 0.921\n",
      "C = 3.000000; gamma = 0.002551;\n",
      "cross validation accuracy 0.95\n",
      "test accuracy 0.9390000000000001\n",
      "C = 3.000000; gamma = 0.003827;\n",
      "cross validation accuracy 0.9525\n",
      "test accuracy 0.938\n",
      "C = 3.000000; gamma = 0.005102;\n",
      "cross validation accuracy 0.9525\n",
      "test accuracy 0.944\n",
      "C = 4.000000; gamma = 0.001276;\n",
      "cross validation accuracy 0.9325\n",
      "test accuracy 0.919\n",
      "C = 4.000000; gamma = 0.002551;\n",
      "cross validation accuracy 0.945\n",
      "test accuracy 0.937\n",
      "C = 4.000000; gamma = 0.003827;\n",
      "cross validation accuracy 0.9525\n",
      "test accuracy 0.944\n",
      "C = 4.000000; gamma = 0.005102;\n",
      "cross validation accuracy 0.9525\n",
      "test accuracy 0.944\n"
     ]
    }
   ],
   "source": [
    "N_FEATURES = 28 * 28\n",
    "C_table = (1, 2, 3, 4)\n",
    "gamma_multiplier_table = (1, 2, 3, 4)\n",
    "gamma_table = list(map(lambda multiplier : multiplier / N_FEATURES, gamma_multiplier_table))\n",
    "for C in C_table:\n",
    "    for gamma in gamma_table:\n",
    "        print('C = %f; gamma = %f;' % (C, gamma))\n",
    "        accuracy, classifier = cross_validate(training_X, training_Y, 5, SVC(C=C, gamma=gamma), verbose=False)\n",
    "        print('cross validation accuracy', accuracy)\n",
    "        test_accuracy = calculate_accuracy(classifier.predict(test_X), test_Y)\n",
    "        print('test accuracy', test_accuracy)"
   ]
  },
  {
   "cell_type": "markdown",
   "metadata": {},
   "source": [
    "### Optimal Result\n",
    "    C = 2.000000; gamma = 0.005102.\n",
    "    cross validation accuracy 0.955\n",
    "    test accuracy 0.946\n",
    "    (Official websit of the MNIST dataset reports an test error of 1.4% using gaussian kernel SVM)"
   ]
  }
 ],
 "metadata": {
  "anaconda-cloud": {},
  "kernelspec": {
   "display_name": "Python 3",
   "language": "python",
   "name": "python3"
  },
  "language_info": {
   "codemirror_mode": {
    "name": "ipython",
    "version": 3
   },
   "file_extension": ".py",
   "mimetype": "text/x-python",
   "name": "python",
   "nbconvert_exporter": "python",
   "pygments_lexer": "ipython3",
   "version": "3.6.0"
  }
 },
 "nbformat": 4,
 "nbformat_minor": 1
}
