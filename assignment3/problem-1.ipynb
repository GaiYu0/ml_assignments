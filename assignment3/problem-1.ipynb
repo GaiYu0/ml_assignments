{
 "cells": [
  {
   "cell_type": "code",
   "execution_count": 1,
   "metadata": {
    "collapsed": false
   },
   "outputs": [
    {
     "name": "stderr",
     "output_type": "stream",
     "text": [
      "/usr/local/lib/python3.4/dist-packages/matplotlib/backends/backend_gtk3agg.py:18: UserWarning: The Gtk3Agg backend is known to not work on Python 3.x with pycairo. Try installing cairocffi.\n",
      "  \"The Gtk3Agg backend is known to not work on Python 3.x with pycairo. \"\n"
     ]
    }
   ],
   "source": [
    "import matplotlib.pylab as pl\n",
    "%matplotlib inline\n",
    "import numpy as np"
   ]
  },
  {
   "cell_type": "code",
   "execution_count": 2,
   "metadata": {
    "collapsed": false
   },
   "outputs": [
    {
     "data": {
      "text/plain": [
       "<matplotlib.legend.Legend at 0x7fa1f85e58d0>"
      ]
     },
     "execution_count": 2,
     "metadata": {},
     "output_type": "execute_result"
    },
    {
     "data": {
      "image/png": "[encoded data removed]",
      "text/plain": [
       "<matplotlib.figure.Figure at 0x7fa1f85fbfd0>"
      ]
     },
     "metadata": {},
     "output_type": "display_data"
    }
   ],
   "source": [
    "X = [[1, 1], [2, 2], [2, 0], [0, 0], [1, 0], [0, 1]]\n",
    "Y = [1, 1, 1, -1, -1, -1]\n",
    "X_ARRAY = np.array(X)\n",
    "Y_ARRAY = np.array(Y)\n",
    "pl.plot(X_ARRAY[Y_ARRAY==1][:, 0], X_ARRAY[Y_ARRAY==1][:, 1], 'o', label='+1')\n",
    "pl.plot(X_ARRAY[Y_ARRAY==-1][:, 0], X_ARRAY[Y_ARRAY==-1][:, 1], 'o', label='-1')\n",
    "pl.xlim(-1, 3)\n",
    "pl.ylim(-1, 3)\n",
    "pl.grid()\n",
    "pl.legend(framealpha=0, loc='upper left')"
   ]
  }
 ],
 "metadata": {
  "anaconda-cloud": {},
  "kernelspec": {
   "display_name": "Python 3",
   "language": "python",
   "name": "python3"
  },
  "language_info": {
   "codemirror_mode": {
    "name": "ipython",
    "version": 3
   },
   "file_extension": ".py",
   "mimetype": "text/x-python",
   "name": "python",
   "nbconvert_exporter": "python",
   "pygments_lexer": "ipython3",
   "version": "3.4.3"
  }
 },
 "nbformat": 4,
 "nbformat_minor": 1
}
