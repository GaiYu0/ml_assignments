{
 "cells": [
  {
   "cell_type": "code",
   "execution_count": 1,
   "metadata": {
    "collapsed": false
   },
   "outputs": [],
   "source": [
    "import matplotlib.pylab as pl\n",
    "%matplotlib inline\n",
    "import numpy as np"
   ]
  },
  {
   "cell_type": "code",
   "execution_count": 2,
   "metadata": {
    "collapsed": false
   },
   "outputs": [
    {
     "data": {
      "text/plain": [
       "<matplotlib.legend.Legend at 0x7f73edaecc50>"
      ]
     },
     "execution_count": 2,
     "metadata": {},
     "output_type": "execute_result"
    },
    {
     "data": {
      "image/png": "[encoded data removed]",
      "text/plain": [
       "<matplotlib.figure.Figure at 0x7f73f048a278>"
      ]
     },
     "metadata": {},
     "output_type": "display_data"
    }
   ],
   "source": [
    "X = [[1, 1], [2, 2], [2, 0], [0, 0], [1, 0], [0, 1]]\n",
    "Y = [1, 1, 1, -1, -1, -1]\n",
    "X_ARRAY = np.array(X)\n",
    "Y_ARRAY = np.array(Y)\n",
    "pl.plot(X_ARRAY[Y_ARRAY==1][:, 0], X_ARRAY[Y_ARRAY==1][:, 1], 'o', label='+1')\n",
    "pl.plot(X_ARRAY[Y_ARRAY==-1][:, 0], X_ARRAY[Y_ARRAY==-1][:, 1], 'o', label='-1')\n",
    "pl.xlim(-1, 3)\n",
    "pl.ylim(-1, 3)\n",
    "pl.grid()\n",
    "pl.legend(framealpha=0, loc='upper left')"
   ]
  },
  {
   "cell_type": "code",
   "execution_count": 3,
   "metadata": {
    "collapsed": true
   },
   "outputs": [],
   "source": [
    "def plot_curve(curve):\n",
    "    X = np.linspace(-5, 5)\n",
    "    Y = curve(X)\n",
    "    pl.plot(X, Y)"
   ]
  }
 ],
 "metadata": {
  "anaconda-cloud": {},
  "kernelspec": {
   "display_name": "Python 3",
   "language": "python",
   "name": "python3"
  },
  "language_info": {
   "codemirror_mode": {
    "name": "ipython",
    "version": 3
   },
   "file_extension": ".py",
   "mimetype": "text/x-python",
   "name": "python",
   "nbconvert_exporter": "python",
   "pygments_lexer": "ipython3",
   "version": "3.6.0"
  }
 },
 "nbformat": 4,
 "nbformat_minor": 1
}
