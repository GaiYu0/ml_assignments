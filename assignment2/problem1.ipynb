{
 "cells": [
  {
   "cell_type": "code",
   "execution_count": 1,
   "metadata": {
    "collapsed": false
   },
   "outputs": [],
   "source": [
    "from __future__ import print_function\n",
    "import numpy as np\n",
    "from sympy import diff, init_printing, powsimp, symbols\n",
    "init_printing()"
   ]
  },
  {
   "cell_type": "markdown",
   "metadata": {},
   "source": [
    "### Problem 1 Question 1\n",
    "    J(W0, W1, W2)"
   ]
  },
  {
   "cell_type": "code",
   "execution_count": 2,
   "metadata": {
    "collapsed": true
   },
   "outputs": [],
   "source": [
    "def square_of_sum(inputs):\n",
    "    result = sum((X * Y for X in inputs for Y in inputs))\n",
    "    return result"
   ]
  },
  {
   "cell_type": "code",
   "execution_count": 3,
   "metadata": {
    "collapsed": false
   },
   "outputs": [
    {
     "data": {
      "image/png": "[encoded data removed]",
      "text/latex": [
       "$$0.125 \\left(W_{0} + 1416 W_{1} + 2 W_{2} - 232\\right)^{2} + 0.125 \\left(W_{0} + 1600 W_{1} + 3 W_{2} - 330\\right)^{2} + 0.125 \\left(W_{0} + 2400 W_{1} + 3 W_{2} - 369\\right)^{2} + 0.125 \\left(W_{0} + 3000 W_{1} + 4 W_{2} - 540\\right)^{2}$$"
      ],
      "text/plain": [
       "                                 2                                    2       \n",
       "0.125⋅(W₀ + 1416⋅W₁ + 2⋅W₂ - 232)  + 0.125⋅(W₀ + 1600⋅W₁ + 3⋅W₂ - 330)  + 0.12\n",
       "\n",
       "                             2                                    2\n",
       "5⋅(W₀ + 2400⋅W₁ + 3⋅W₂ - 369)  + 0.125⋅(W₀ + 3000⋅W₁ + 4⋅W₂ - 540) "
      ]
     },
     "execution_count": 3,
     "metadata": {},
     "output_type": "execute_result"
    }
   ],
   "source": [
    "# unsimplified formula\n",
    "X1_table = (1600, 2400, 1416, 3000)\n",
    "X2_table = (3, 3, 2, 4)\n",
    "Y_table = (330, 369, 232, 540)\n",
    "W0, W1, W2 = symbols('W_0, W_1, W_2')\n",
    "loss_formula = sum(((W0 + X1 * W1 + X2 * W2 - Y) ** 2 for X1, X2, Y in zip(X1_table, X2_table, Y_table))) / 8.0\n",
    "loss_formula"
   ]
  },
  {
   "cell_type": "code",
   "execution_count": 4,
   "metadata": {
    "collapsed": false
   },
   "outputs": [
    {
     "data": {
      "image/png": "[encoded data removed]",
      "text/latex": [
       "$$0.5 W_{0}^{2} + 2104.0 W_{0} W_{1} + 3.0 W_{0} W_{2} - 367.75 W_{0} + 2415632.0 W_{1}^{2} + 6708.0 W_{1} W_{2} - 840528.0 W_{1} + 4.75 W_{2}^{2} - 1180.25 W_{2} + 73810.625$$"
      ],
      "text/plain": [
       "      2                                                      2                \n",
       "0.5⋅W₀  + 2104.0⋅W₀⋅W₁ + 3.0⋅W₀⋅W₂ - 367.75⋅W₀ + 2415632.0⋅W₁  + 6708.0⋅W₁⋅W₂ \n",
       "\n",
       "                       2                         \n",
       "- 840528.0⋅W₁ + 4.75⋅W₂  - 1180.25⋅W₂ + 73810.625"
      ]
     },
     "execution_count": 4,
     "metadata": {},
     "output_type": "execute_result"
    }
   ],
   "source": [
    "# simplified formula\n",
    "X1_table = (1600, 2400, 1416, 3000)\n",
    "X2_table = (3, 3, 2, 4)\n",
    "Y_table = (330, 369, 232, 540)\n",
    "W0, W1, W2 = symbols('W_0, W_1, W_2')\n",
    "loss_formula = sum((square_of_sum((W0, X1 * W1, X2 * W2, -Y)) for X1, X2, Y in zip(X1_table, X2_table, Y_table))) / 8.0\n",
    "loss_formula = powsimp(loss_formula)\n",
    "loss_formula"
   ]
  },
  {
   "cell_type": "markdown",
   "metadata": {},
   "source": [
    "### Problem 1 Calculated updated parameters\n",
    "    Use standard gradient descent to calculate updates and use sympy to check result of gradient descent."
   ]
  },
  {
   "cell_type": "code",
   "execution_count": 5,
   "metadata": {
    "collapsed": false
   },
   "outputs": [],
   "source": [
    "# convert data to numpy array\n",
    "X = np.array([list(X1_table), list(X2_table)]).T\n",
    "Y = np.array([list(Y_table)]).T"
   ]
  },
  {
   "cell_type": "code",
   "execution_count": 6,
   "metadata": {
    "collapsed": true
   },
   "outputs": [],
   "source": [
    "# copied from assignment2.ipynb\n",
    "def predict(W, bias, X):\n",
    "    return np.dot(X, W) + bias\n",
    "def forward(W, bias, X, Y):\n",
    "    predictions = predict(W, bias, X)\n",
    "    difference = predictions - Y\n",
    "    loss = 0.5 * np.mean(difference ** 2, axis=0)\n",
    "    cache = (difference,)\n",
    "    return loss, cache\n",
    "def backward(W, bias, X, Y, cache):\n",
    "    difference, = cache\n",
    "    dW = np.mean(X * difference, axis=0).reshape(W.shape)\n",
    "    dbias = np.mean(difference)\n",
    "    return dW, dbias"
   ]
  },
  {
   "cell_type": "code",
   "execution_count": 7,
   "metadata": {
    "collapsed": false
   },
   "outputs": [
    {
     "name": "stdout",
     "output_type": "stream",
     "text": [
      "updated W0 36.775\n",
      "updated W1 84052.8\n",
      "updated W2 118.025\n"
     ]
    }
   ],
   "source": [
    "# use gradient descent to calculate updates\n",
    "W = np.zeros((2, 1))\n",
    "bias = np.zeros(1)\n",
    "loss, cache = forward(W, bias, X, Y)\n",
    "dW, dbias = backward(W, bias, X, Y, cache)\n",
    "dW0 = dbias\n",
    "dW1 = dW[0][0]\n",
    "dW2 = dW[1][0]\n",
    "alpha = 0.1\n",
    "print('updated W0', -alpha * dW0)\n",
    "print('updated W1', -alpha * dW1)\n",
    "print('updated W2', -alpha * dW2)"
   ]
  },
  {
   "cell_type": "code",
   "execution_count": 8,
   "metadata": {
    "collapsed": false
   },
   "outputs": [
    {
     "name": "stdout",
     "output_type": "stream",
     "text": [
      "updated W0 36.7750000000000\n",
      "updated W1 84052.8000000000\n",
      "updated W2 118.025000000000\n"
     ]
    }
   ],
   "source": [
    "# check result using sympy's differentiation function\n",
    "keys = ('W_0', 'W_1', 'W_2')\n",
    "values = (0,) * 3\n",
    "args = dict(zip(keys, values))\n",
    "dW0 = diff(loss_formula, W0).subs(args)\n",
    "dW1 = diff(loss_formula, W1).subs(args)\n",
    "dW2 = diff(loss_formula, W2).subs(args)\n",
    "alpha = 0.1\n",
    "print('updated W0', W0.subs('W_0', -alpha * dW0))\n",
    "print('updated W1', W1.subs('W_1', -alpha * dW1))\n",
    "print('updated W2', W2.subs('W_2', -alpha * dW2))"
   ]
  }
 ],
 "metadata": {
  "anaconda-cloud": {},
  "kernelspec": {
   "display_name": "Python [conda root]",
   "language": "python",
   "name": "conda-root-py"
  },
  "language_info": {
   "codemirror_mode": {
    "name": "ipython",
    "version": 2
   },
   "file_extension": ".py",
   "mimetype": "text/x-python",
   "name": "python",
   "nbconvert_exporter": "python",
   "pygments_lexer": "ipython2",
   "version": "2.7.12"
  }
 },
 "nbformat": 4,
 "nbformat_minor": 1
}
