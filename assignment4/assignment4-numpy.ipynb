{
 "cells": [
  {
   "cell_type": "code",
   "execution_count": 1,
   "metadata": {
    "collapsed": false
   },
   "outputs": [],
   "source": [
    "import pickle\n",
    "import numpy as np\n",
    "from check_gradient import check_gradient"
   ]
  },
  {
   "cell_type": "code",
   "execution_count": 2,
   "metadata": {
    "collapsed": true
   },
   "outputs": [],
   "source": [
    "data = np.loadtxt('data.csv', delimiter=',')\n",
    "labels = np.loadtxt('data-labels.csv', delimiter=',', dtype=np.int) - 1\n",
    "theta1 = np.loadtxt('theta1.csv', delimiter=',').T\n",
    "theta2 = np.loadtxt('theta2.csv', delimiter=',').T"
   ]
  },
  {
   "cell_type": "code",
   "execution_count": 3,
   "metadata": {
    "collapsed": false
   },
   "outputs": [],
   "source": [
    "def sigmoid(X):\n",
    "    return 1 / (1 + np.exp(-X))\n",
    "def unpack(theta):\n",
    "    # partition theta into weight and bias\n",
    "    return theta[1:], theta[0]\n",
    "def neuron_forward(data, theta, activate=sigmoid):\n",
    "    '''\n",
    "    Only to fulfill the requirement of question 1.\n",
    "    The function is not going to be called because computation of neural networks can be further verctorized.\n",
    "    '''\n",
    "    weight, bias = unpack(theta)\n",
    "    return activate(np.dot(data, weight) + bias)\n",
    "def network_forward(data, theta1, theta2, activate=sigmoid):\n",
    "    # compute class scores\n",
    "    weight1, bias1 = unpack(theta1)\n",
    "    activations = activate(np.dot(data, weight1) + bias1)\n",
    "    weight2, bias2 = unpack(theta2)\n",
    "    scores = np.dot(activations, weight2) + bias2\n",
    "    cache = (data, activations, weight2) # for back-propagation\n",
    "    return scores, cache\n",
    "def predict(scores):\n",
    "    # classify images provided class scores\n",
    "    return np.argmax(scores, axis=1)\n",
    "def errors(predictions, labels):\n",
    "    return np.count_nonzero(predictions - labels)\n",
    "def error_rate(predictions, labels):\n",
    "    return errors(predictions, labels) / len(labels)"
   ]
  },
  {
   "cell_type": "code",
   "execution_count": 4,
   "metadata": {
    "collapsed": false
   },
   "outputs": [
    {
     "data": {
      "text/plain": [
       "0.0248"
      ]
     },
     "execution_count": 4,
     "metadata": {},
     "output_type": "execute_result"
    }
   ],
   "source": [
    "# classification error rate\n",
    "scores, network_cache = network_forward(data, theta1, theta2)\n",
    "predictions = predict(scores)\n",
    "error_rate(predictions, labels)"
   ]
  },
  {
   "cell_type": "code",
   "execution_count": 5,
   "metadata": {
    "collapsed": true
   },
   "outputs": [],
   "source": [
    "# negative log likelihood loss (convert class scores to probability via softmax function)\n",
    "def nll_loss(scores, labels):\n",
    "    N, D = scores.shape\n",
    "    normalized_scores = scores - np.max(scores, axis=1).reshape((N, 1))\n",
    "    exponents = np.exp(normalized_scores)\n",
    "    total = np.sum(exponents, axis=1)\n",
    "    probabilities = exponents[np.arange(N), labels] / total\n",
    "    loss = np.mean(-np.log(probabilities))\n",
    "    cache = (scores, labels, exponents, total) # for back-propagation\n",
    "    return loss, cache"
   ]
  },
  {
   "cell_type": "code",
   "execution_count": 6,
   "metadata": {
    "collapsed": false
   },
   "outputs": [
    {
     "data": {
      "text/plain": [
       "0.086888560374750276"
      ]
     },
     "execution_count": 6,
     "metadata": {},
     "output_type": "execute_result"
    }
   ],
   "source": [
    "# compute loss\n",
    "loss, loss_cache = nll_loss(scores, labels)\n",
    "loss"
   ]
  },
  {
   "cell_type": "code",
   "execution_count": 7,
   "metadata": {
    "collapsed": true
   },
   "outputs": [],
   "source": [
    "def d_nll_loss(cache):\n",
    "    # calculate gradient w.r.t. class scores\n",
    "    scores, labels, exponents, total = cache\n",
    "    N, D = scores.shape\n",
    "    d_scores = exponents / (N * total.reshape((N, 1)))\n",
    "    d_scores[np.arange(N), labels] -= 1 / N\n",
    "    maximum_indices = np.argmax(scores, axis=1)\n",
    "    d_scores[np.arange(N), maximum_indices] -= np.sum(d_scores, axis=1)\n",
    "    return d_scores\n",
    "def network_backward(d_scores, cache):\n",
    "    # calculate gradient w.r.t. parameters\n",
    "    data, activations, weight2 = cache\n",
    "    d_bias2 = np.sum(d_scores, axis=0)\n",
    "    d_weight2 = np.dot(activations.T, d_scores)\n",
    "    d_activations = np.dot(d_scores, weight2.T)\n",
    "    d_pre_activations = activations * (1 - activations) * d_activations\n",
    "    d_bias1 = np.sum(d_pre_activations, axis=0)\n",
    "    d_weight1 = np.dot(data.T, d_pre_activations)\n",
    "    return d_weight1, d_bias1, d_weight2, d_bias2"
   ]
  },
  {
   "cell_type": "code",
   "execution_count": 8,
   "metadata": {
    "collapsed": false
   },
   "outputs": [],
   "source": [
    "d_scores = d_nll_loss(loss_cache)\n",
    "d_weight1, d_bias1, d_weight2, d_bias2 = network_backward(d_scores, network_cache)"
   ]
  },
  {
   "cell_type": "markdown",
   "metadata": {},
   "source": [
    "Monitor maximum relative difference of numerical gradient and analytical gradient to check gradient calculation. Numerical gradient is calculated via approximation method, while analytical gradient is calculated via back-propagation. Relative difference is measured by: |p - q| / (|p| + |q|). A relative difference close to 0 indicates good precision."
   ]
  },
  {
   "cell_type": "code",
   "execution_count": 9,
   "metadata": {
    "collapsed": false
   },
   "outputs": [
    {
     "name": "stdout",
     "output_type": "stream",
     "text": [
      "0.00161544264488\n"
     ]
    }
   ],
   "source": [
    "# check gradient w.r.t class scores\n",
    "def f(scores):\n",
    "    loss, _ = nll_loss(scores, labels)\n",
    "    return loss\n",
    "print(max(check_gradient(f, scores, d_scores, 100).values()))"
   ]
  },
  {
   "cell_type": "code",
   "execution_count": 10,
   "metadata": {
    "collapsed": true
   },
   "outputs": [],
   "source": [
    "def pack(weight, bias):\n",
    "    # stack weight and bias\n",
    "    return np.vstack((bias, weight))\n",
    "d_theta1 = pack(d_weight1, d_bias1)\n",
    "d_theta2 = pack(d_weight2, d_bias2)"
   ]
  },
  {
   "cell_type": "code",
   "execution_count": 11,
   "metadata": {
    "collapsed": false
   },
   "outputs": [
    {
     "name": "stdout",
     "output_type": "stream",
     "text": [
      "2.61388111324e-05\n"
     ]
    }
   ],
   "source": [
    "# check gradient w.r.t. theta 1\n",
    "def f(theta1):\n",
    "    scores, network_cache = network_forward(data, theta1, theta2)\n",
    "    loss, _ = nll_loss(scores, labels)\n",
    "    return loss\n",
    "print(max(check_gradient(f, theta1, d_theta1, 10).values()))"
   ]
  },
  {
   "cell_type": "code",
   "execution_count": 12,
   "metadata": {
    "collapsed": false
   },
   "outputs": [
    {
     "name": "stdout",
     "output_type": "stream",
     "text": [
      "1.25883441278e-09\n"
     ]
    }
   ],
   "source": [
    "# check gradient w.r.t. theta 2\n",
    "def f(theta2):\n",
    "    scores, network_cache = network_forward(data, theta1, theta2)\n",
    "    loss, _ = nll_loss(scores, labels)\n",
    "    return loss\n",
    "print(max(check_gradient(f, theta2, d_theta2, 10).values()))"
   ]
  },
  {
   "cell_type": "code",
   "execution_count": 13,
   "metadata": {
    "collapsed": false
   },
   "outputs": [
    {
     "name": "stdout",
     "output_type": "stream",
     "text": [
      "mean = 0.000115\n",
      "median = 0.000033\n",
      "standard deviation = 0.000188\n"
     ]
    }
   ],
   "source": [
    "# statistics w.r.t. theta 1\n",
    "abs_d_theta1 = np.abs(d_theta1)\n",
    "mean = np.mean(abs_d_theta1)\n",
    "median = np.median(abs_d_theta1)\n",
    "std = np.std(abs_d_theta1)\n",
    "print('mean = %f' % mean)\n",
    "print('median = %f' % median)\n",
    "print('standard deviation = %f' % std)"
   ]
  },
  {
   "cell_type": "code",
   "execution_count": 14,
   "metadata": {
    "collapsed": false
   },
   "outputs": [
    {
     "name": "stdout",
     "output_type": "stream",
     "text": [
      "mean = 0.000514\n",
      "median = 0.000379\n",
      "standard deviation = 0.000443\n"
     ]
    }
   ],
   "source": [
    "# statistics w.r.t. theta 2\n",
    "abs_d_theta2 = np.abs(d_theta2)\n",
    "mean = np.mean(abs_d_theta2)\n",
    "median = np.median(abs_d_theta2)\n",
    "std = np.std(abs_d_theta2)\n",
    "print('mean = %f' % mean)\n",
    "print('median = %f' % median)\n",
    "print('standard deviation = %f' % std)"
   ]
  },
  {
   "cell_type": "code",
   "execution_count": 15,
   "metadata": {
    "collapsed": true
   },
   "outputs": [],
   "source": [
    "randomized_theta1 = np.random.uniform(0.9, 1.1, theta1.shape) * theta1\n",
    "randomized_theta2 = np.random.uniform(0.9, 1.1, theta2.shape) * theta2"
   ]
  },
  {
   "cell_type": "code",
   "execution_count": 16,
   "metadata": {
    "collapsed": false
   },
   "outputs": [
    {
     "data": {
      "text/plain": [
       "0.025"
      ]
     },
     "execution_count": 16,
     "metadata": {},
     "output_type": "execute_result"
    }
   ],
   "source": [
    "scores, network_cache = network_forward(data, randomized_theta1, randomized_theta2)\n",
    "predictions = predict(scores)\n",
    "error_rate(predictions, labels)"
   ]
  },
  {
   "cell_type": "code",
   "execution_count": 17,
   "metadata": {
    "collapsed": false
   },
   "outputs": [
    {
     "data": {
      "text/plain": [
       "0.088757157114511237"
      ]
     },
     "execution_count": 17,
     "metadata": {},
     "output_type": "execute_result"
    }
   ],
   "source": [
    "loss, loss_cache = nll_loss(scores, labels)\n",
    "loss"
   ]
  },
  {
   "cell_type": "code",
   "execution_count": 18,
   "metadata": {
    "collapsed": false
   },
   "outputs": [],
   "source": [
    "d_scores = d_nll_loss(loss_cache)\n",
    "d_weight1, d_bias1, d_weight2, d_bias2 = network_backward(d_scores, network_cache)"
   ]
  },
  {
   "cell_type": "code",
   "execution_count": 19,
   "metadata": {
    "collapsed": false
   },
   "outputs": [
    {
     "name": "stdout",
     "output_type": "stream",
     "text": [
      "mean = 0.000178\n",
      "median = 0.000039\n",
      "standard deviation = 0.000306\n"
     ]
    }
   ],
   "source": [
    "# statistics w.r.t. randomized theta 1\n",
    "d_theta1 = pack(d_weight1, d_bias1)\n",
    "abs_d_theta1 = np.abs(d_theta1)\n",
    "mean = np.mean(abs_d_theta1)\n",
    "median = np.median(abs_d_theta1)\n",
    "std = np.std(abs_d_theta1)\n",
    "print('mean = %f' % mean)\n",
    "print('median = %f' % median)\n",
    "print('standard deviation = %f' % std)"
   ]
  },
  {
   "cell_type": "code",
   "execution_count": 20,
   "metadata": {
    "collapsed": false
   },
   "outputs": [
    {
     "name": "stdout",
     "output_type": "stream",
     "text": [
      "mean = 0.000822\n",
      "median = 0.000598\n",
      "standard deviation = 0.000727\n"
     ]
    }
   ],
   "source": [
    "# statistics w.r.t. randomized theta 2\n",
    "d_theta2 = pack(d_weight2, d_bias2)\n",
    "abs_d_theta2 = np.abs(d_theta2)\n",
    "mean = np.mean(abs_d_theta2)\n",
    "median = np.median(abs_d_theta2)\n",
    "std = np.std(abs_d_theta2)\n",
    "print('mean = %f' % mean)\n",
    "print('median = %f' % median)\n",
    "print('standard deviation = %f' % std)"
   ]
  },
  {
   "cell_type": "code",
   "execution_count": 21,
   "metadata": {
    "collapsed": false
   },
   "outputs": [],
   "source": [
    "# dump internal results (for checking non-vecterized implementation)\n",
    "cache = (scores, predictions, d_scores, d_theta1, d_theta2)\n",
    "pickle.dump(cache, open('internal', 'wb'))"
   ]
  }
 ],
 "metadata": {
  "kernelspec": {
   "display_name": "Python 3",
   "language": "python",
   "name": "python3"
  },
  "language_info": {
   "codemirror_mode": {
    "name": "ipython",
    "version": 3
   },
   "file_extension": ".py",
   "mimetype": "text/x-python",
   "name": "python",
   "nbconvert_exporter": "python",
   "pygments_lexer": "ipython3",
   "version": "3.6.0"
  }
 },
 "nbformat": 4,
 "nbformat_minor": 1
}
