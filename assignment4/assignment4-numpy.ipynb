{
 "cells": [
  {
   "cell_type": "code",
   "execution_count": 1,
   "metadata": {
    "collapsed": true
   },
   "outputs": [],
   "source": [
    "import numpy as np"
   ]
  },
  {
   "cell_type": "code",
   "execution_count": 7,
   "metadata": {
    "collapsed": true
   },
   "outputs": [],
   "source": [
    "data = np.loadtxt('data.csv', delimiter=',')\n",
    "labels = np.loadtxt('data-labels.csv', delimiter=',', dtype=np.int)\n",
    "theta1 = np.loadtxt('theta1.csv', delimiter=',').T\n",
    "theta2 = np.loadtxt('theta2.csv', delimiter=',').T"
   ]
  },
  {
   "cell_type": "code",
   "execution_count": 3,
   "metadata": {
    "collapsed": false
   },
   "outputs": [],
   "source": [
    "def sigmoid(X):\n",
    "    return 1 / (1 + np.exp(-X))\n",
    "def unpack(theta):\n",
    "    return theta[:-1], theta[-1]\n",
    "def neuron_forward(data, theta, activate=sigmoid):\n",
    "    '''\n",
    "    Only to fulfill the requirement of question 1.\n",
    "    The function is not going to be called because computation of neural networks can be further verctorized.\n",
    "    '''\n",
    "    weight, bias = unpack(theta)\n",
    "    return activate(np.dot(data, weight) + bias)\n",
    "def network_forward(data, theta1, theta2, activate=sigmoid):\n",
    "    weight1, bias1 = unpack(theta1)\n",
    "    activations = activate(np.dot(data, weight1) + bias1)\n",
    "    weight2, bias2 = unpack(theta2)\n",
    "    scores = np.dot(activations, weight2) + bias2\n",
    "    return scores\n",
    "def predict(scores):\n",
    "    return np.argmax(scores, axis=1)\n",
    "def errors(predictions, labels):\n",
    "    return np.count_nonzero(predictions - labels)\n",
    "def error_rate(predictions, labels):\n",
    "    return errors(predictions, labels) / len(labels)"
   ]
  },
  {
   "cell_type": "code",
   "execution_count": 4,
   "metadata": {
    "collapsed": false
   },
   "outputs": [
    {
     "data": {
      "text/plain": [
       "0.826"
      ]
     },
     "execution_count": 4,
     "metadata": {},
     "output_type": "execute_result"
    }
   ],
   "source": [
    "scores = network_forward(data, theta1, theta2)\n",
    "predictions = predict(scores)\n",
    "error_rate(predictions, labels)"
   ]
  },
  {
   "cell_type": "code",
   "execution_count": 5,
   "metadata": {
    "collapsed": true
   },
   "outputs": [],
   "source": [
    "def nll_loss(scores, labels):\n",
    "    N, D = scores.shape\n",
    "    normalized_scores = scores - np.max(scores, axis=1).reshape((N, 1))\n",
    "    exponents = np.exp(normalized_scores)\n",
    "    probabilities = exponents[labels] / np.sum(exponents, axis=1).reshape((N, 1))\n",
    "    loss = np.mean(-np.log(probabilities))\n",
    "    return loss"
   ]
  },
  {
   "cell_type": "code",
   "execution_count": 8,
   "metadata": {
    "collapsed": false
   },
   "outputs": [
    {
     "data": {
      "text/plain": [
       "4.2805966503395654"
      ]
     },
     "execution_count": 8,
     "metadata": {},
     "output_type": "execute_result"
    }
   ],
   "source": [
    "nll_loss(scores, labels)"
   ]
  },
  {
   "cell_type": "code",
   "execution_count": null,
   "metadata": {
    "collapsed": true
   },
   "outputs": [],
   "source": [
    "def d_nll_loss():"
   ]
  }
 ],
 "metadata": {
  "kernelspec": {
   "display_name": "Python 3",
   "language": "python",
   "name": "python3"
  },
  "language_info": {
   "codemirror_mode": {
    "name": "ipython",
    "version": 3
   },
   "file_extension": ".py",
   "mimetype": "text/x-python",
   "name": "python",
   "nbconvert_exporter": "python",
   "pygments_lexer": "ipython3",
   "version": "3.6.0"
  }
 },
 "nbformat": 4,
 "nbformat_minor": 1
}
