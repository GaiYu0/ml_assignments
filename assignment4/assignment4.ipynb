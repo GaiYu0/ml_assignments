{
 "cells": [
  {
   "cell_type": "code",
   "execution_count": 1,
   "metadata": {
    "collapsed": true
   },
   "outputs": [],
   "source": [
    "from array import array\n",
    "import math"
   ]
  },
  {
   "cell_type": "code",
   "execution_count": 2,
   "metadata": {
    "collapsed": true
   },
   "outputs": [],
   "source": [
    "def load_data(file):\n",
    "    return tuple(array('d', map(float, line.split(','))) for line in open(file, 'r'))\n",
    "def load_labels(file):\n",
    "    return array('b', map(lambda i : int(i) - 1, open(file, 'r')))\n",
    "def load_dataset():\n",
    "    return load_data('data.csv'), load_labels('data-labels.csv')\n",
    "def load_weights():\n",
    "    return load_data('theta1.csv'), load_data('theta2.csv')"
   ]
  },
  {
   "cell_type": "code",
   "execution_count": 3,
   "metadata": {
    "collapsed": false
   },
   "outputs": [],
   "source": [
    "data, labels = load_dataset()\n",
    "theta1, theta2 = load_weights()"
   ]
  },
  {
   "cell_type": "code",
   "execution_count": 4,
   "metadata": {
    "collapsed": false
   },
   "outputs": [],
   "source": [
    "def dot(left, right):\n",
    "    return math.fsum(l * r for l, r in zip(left, right))\n",
    "def sigmoid(X):\n",
    "    return 1 / (1 + math.exp(-X))\n",
    "def neuron_forward(data, weights, activate=sigmoid):\n",
    "    return activate(dot(data, weights[1:]) + weights[0])\n",
    "def layer_forward(data, weights, activate=sigmoid):\n",
    "    activations = array('d', (0,) * len(weights))\n",
    "    for neuron_index, neuron_weights in enumerate(weights):\n",
    "        activations[neuron_index] = neuron_forward(data, neuron_weights, activate)\n",
    "    return activations\n",
    "def network_forward(data, theta1, theta2, activate=sigmoid):\n",
    "    activations = layer_forward(data, theta1, activate)\n",
    "#     score = array('d', map(lambda neuron_weights : dot(activations, neuron_weights), theta2))\n",
    "    score = layer_forward(activations, theta2, activate)\n",
    "    return score\n",
    "def predict(data, theta1, theta2, activate=sigmoid):\n",
    "    score = network_forward(data, theta1, theta2, activate=sigmoid)\n",
    "    return score.index(max(score))\n",
    "def batch_predict(batch, theta1, theta2, activate=sigmoid):\n",
    "    return array('b', map(lambda data : predict(data, theta1, theta2, activate), batch))\n",
    "def n_errors(prediction, labels):\n",
    "    return sum((prediction - label) != 0 for prediction, label in zip(predictions, labels))\n",
    "def error_rate(prediction, labels):\n",
    "    return n_errors(prediction, labels) / len(labels)"
   ]
  },
  {
   "cell_type": "code",
   "execution_count": 5,
   "metadata": {
    "collapsed": false
   },
   "outputs": [],
   "source": [
    "predictions = batch_predict(data, theta1, theta2)"
   ]
  },
  {
   "cell_type": "code",
   "execution_count": 6,
   "metadata": {
    "collapsed": false
   },
   "outputs": [
    {
     "data": {
      "text/plain": [
       "0.0248"
      ]
     },
     "execution_count": 6,
     "metadata": {},
     "output_type": "execute_result"
    }
   ],
   "source": [
    "error_rate(predictions, labels)"
   ]
  }
 ],
 "metadata": {
  "anaconda-cloud": {},
  "kernelspec": {
   "display_name": "Python 3",
   "language": "python",
   "name": "python3"
  },
  "language_info": {
   "codemirror_mode": {
    "name": "ipython",
    "version": 3
   },
   "file_extension": ".py",
   "mimetype": "text/x-python",
   "name": "python",
   "nbconvert_exporter": "python",
   "pygments_lexer": "ipython3",
   "version": "3.6.0"
  }
 },
 "nbformat": 4,
 "nbformat_minor": 1
}
